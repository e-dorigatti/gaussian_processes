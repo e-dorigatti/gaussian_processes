{
 "cells": [
  {
   "cell_type": "markdown",
   "metadata": {},
   "source": [
    "Implementation of _Weight Uncertainty in Neural Networks_, Charles Blundell et al., May 2015"
   ]
  },
  {
   "cell_type": "code",
   "execution_count": 1,
   "metadata": {},
   "outputs": [],
   "source": [
    "import numpy as np\n",
    "from operator import itemgetter\n",
    "import matplotlib.pyplot as plt\n",
    "from scipy import optimize, stats\n",
    "import seaborn as sns\n",
    "sns.set()\n",
    "import pandas as pd"
   ]
  },
  {
   "cell_type": "markdown",
   "metadata": {},
   "source": [
    "# Linear Regression"
   ]
  },
  {
   "cell_type": "markdown",
   "metadata": {},
   "source": [
    "We start with the simplest possible setting: linear regression; this will make it easy to plot the model and to examine the optimization process."
   ]
  },
  {
   "cell_type": "code",
   "execution_count": 2,
   "metadata": {},
   "outputs": [],
   "source": [
    "N = 250\n",
    "true_parameters = np.array([3, -2])\n",
    "\n",
    "X = np.random.random(size=(N, 2)) * 4 - 2\n",
    "X[:, 1] = 1\n",
    "eps = np.random.normal(scale=0.75, size=(N,))\n",
    "\n",
    "y = X.dot(true_parameters) + eps"
   ]
  },
  {
   "cell_type": "code",
   "execution_count": 3,
   "metadata": {},
   "outputs": [
    {
     "data": {
      "text/plain": [
       "[<matplotlib.lines.Line2D at 0x1bc4245c160>]"
      ]
     },
     "execution_count": 3,
     "metadata": {},
     "output_type": "execute_result"
    },
    {
     "data": {
      "image/png": "[encoded data removed]",
      "text/plain": [
       "<Figure size 432x288 with 1 Axes>"
      ]
     },
     "metadata": {
      "needs_background": "light"
     },
     "output_type": "display_data"
    }
   ],
   "source": [
    "plt.scatter(X[:, 0], y)\n",
    "plt.plot([-2, 2], [-2 * 3 - 2, 2 * 3 - 2], 'r', linewidth=2)"
   ]
  },
  {
   "cell_type": "markdown",
   "metadata": {},
   "source": [
    "We should choose the proper standard deviation for the prior; if it's too low, the prior would be too strong and favor parameters close to zero. In this case we can cheat and actually check how much regularization would result in the best prior likelihood for the parameters:"
   ]
  },
  {
   "cell_type": "code",
   "execution_count": 4,
   "metadata": {},
   "outputs": [
    {
     "data": {
      "image/png": "[encoded data removed]",
      "text/plain": [
       "<Figure size 432x288 with 1 Axes>"
      ]
     },
     "metadata": {
      "needs_background": "light"
     },
     "output_type": "display_data"
    }
   ],
   "source": [
    "covs = [0.1, 0.25, 0.5, 1, 2, 5, 10, 25, 50, 100, 250, 500, 1000]\n",
    "ps = [\n",
    "    stats.multivariate_normal(\n",
    "        mean=np.zeros(2),\n",
    "        cov=c * np.eye(2)\n",
    "    ).logpdf(true_parameters)\n",
    "    for c in covs\n",
    "]\n",
    "\n",
    "plt.semilogx(covs, ps)\n",
    "plt.xlabel('Prior stdev')\n",
    "plt.title('Log-probability of true parameters')\n",
    "plt.show()"
   ]
  },
  {
   "cell_type": "markdown",
   "metadata": {},
   "source": [
    "We can safely pick a prior standard deviation of 2.\n",
    "\n",
    "\n",
    "Short anecdote: initially I didn't know which value to choose, so I randomly chose for 0.1, for no particular reason. After I finished the implementation, the parameters found by gradient descent were not that good, but not so bad that you would think something bad was going on. Then, after some head-scratching, I checked the three components of the loss, and found that the true parameters had indeed larger likelihood, but their loss was heavily influenced by the penalty due to the prior. I ran everything with a larger prior standard deviation and everything went smoothly."
   ]
  },
  {
   "cell_type": "markdown",
   "metadata": {},
   "source": [
    "We now apply the variational method proposed in the paper, where we use Gaussians everywhere (prior, approximate posterior, and likelihood)."
   ]
  },
  {
   "cell_type": "code",
   "execution_count": null,
   "metadata": {},
   "outputs": [],
   "source": [
    "class GradientDescentOptimizer:\n",
    "    def __init__(self, momentum=0.9, base_lrate=1, clip_gradient=1,\n",
    "                 min_improvement=1e-3, max_steps=1000, verbose=0,\n",
    "                 raise_exceptions=False):\n",
    "        self.momentum = momentum\n",
    "        self.base_lrate = base_lrate\n",
    "        self.clip_gradient = clip_gradient\n",
    "        self.min_improvement = min_improvement\n",
    "        self.max_steps = max_steps\n",
    "        self.verbose = verbose\n",
    "        self.raise_exceptions = raise_exceptions\n",
    "\n",
    "    def log(self, level, *message):\n",
    "        if level <= self.verbose:\n",
    "            print(*message)\n",
    "\n",
    "    def minimize(self, initial, f, *f_args):\n",
    "        old_gradient = None\n",
    "        old_value = np.inf\n",
    "        parameters = initial\n",
    "        base_lrate = self.base_lrate\n",
    "        best = old_value, parameters\n",
    "        \n",
    "        self.hist = []\n",
    "        for i in range(self.max_steps):\n",
    "            try:\n",
    "                value, gradient = f(parameters, *f_args)\n",
    "            except Exception as exc:\n",
    "                if self.raise_exceptions:\n",
    "                    raise\n",
    "                else:\n",
    "                    self.log(0, exc)\n",
    "                    break\n",
    "\n",
    "            # update best guess\n",
    "            if value < best[0]:\n",
    "                best = value, parameters\n",
    "\n",
    "            # halve learning rate if function increased\n",
    "            # NB: in this case, the function is approximated with monte carlo sampling\n",
    "            # which means it is potentially very noisy, therefore cannot interpret\n",
    "            # the value decreasing as \n",
    "            if value > old_value:\n",
    "                #base_lrate *= 0.5\n",
    "                pass\n",
    "\n",
    "            # decay learning rate\n",
    "            lrate = base_lrate / np.sqrt(i + 1)\n",
    "\n",
    "            # clip gradient\n",
    "            mag = np.sqrt(np.sum(gradient**2))\n",
    "            if self.clip_gradient > 0 and mag > self.clip_gradient:\n",
    "                gradient = gradient * self.clip_gradient / mag\n",
    "\n",
    "            # apply momentum\n",
    "            if old_gradient is not None:\n",
    "                gradient = self.momentum * old_gradient + (1 - self.momentum) * gradient\n",
    "\n",
    "            # update, log and check for stopping criterion\n",
    "            parameters -= lrate * gradient\n",
    "\n",
    "            self.hist.append((i, value, old_value - value, lrate, mag, parameters.copy()))\n",
    "            self.log(2, 'IT: %6d | LLI: %14.3f | IM: %14.3e | LR: %14.3e | MAG: %14.3f - %s' % self.hist[-1])\n",
    "\n",
    "            if i > 10 and abs(value - old_value) < self.min_improvement:\n",
    "                break\n",
    "\n",
    "            old_value, old_gradient = value, gradient\n",
    "\n",
    "        return best\n",
    "\n",
    "    def minimize_with_restarts(self, num_restarts, sample_initial, f, *f_args):\n",
    "        best, hist = None, None\n",
    "        for i in range(num_restarts):\n",
    "            parameters = sample_initial()\n",
    "            value, parameters = self.minimize(parameters, f, *f_args)\n",
    "            if best is None or value < best[0]:\n",
    "                best = value, parameters\n",
    "                hist = self.hist\n",
    "                \n",
    "            self.log(1, '--------------------- %d - Got: %.4f - Best: %.4f' % (i + 1, value, best[0]))\n",
    "            self.log(1, '----', parameters)\n",
    "\n",
    "        self.hist = hist\n",
    "        return best"
   ]
  },
  {
   "cell_type": "code",
   "execution_count": null,
   "metadata": {},
   "outputs": [],
   "source": [
    "def sample_and_loss(mu, rho, eps, X, y, regu, sigma_noise):\n",
    "    ''' sample one set of parameters and compute loss and gradients\n",
    "    '''\n",
    "    \n",
    "    sigma = np.log(1 + np.exp(rho))\n",
    "    w = mu + sigma * eps\n",
    "    \n",
    "    log_q = -0.5 * np.log(2 * np.pi) - np.log(sigma) - (w - mu)**2 / (2 * sigma**2)\n",
    "    log_p = -0.5 * np.log(2 * np.pi) - np.log(regu) - w**2 / (2 * regu**2)\n",
    "\n",
    "    preds = X.dot(w)\n",
    "    log_d = -0.5 * np.log(2 * np.pi) - np.log(sigma_noise) - (preds - y)**2 / (2 * sigma_noise**2)\n",
    "    \n",
    "    loss = np.sum(log_q) - np.sum(log_p) - np.sum(log_d)\n",
    "\n",
    "    # compute gradient of loss wrt w\n",
    "    dlogq_dw = -(w - mu) / sigma**2\n",
    "    dlogp_dw = -w / regu**2\n",
    "    dlogd_dw = np.sum(\n",
    "        -X.T * (preds - y).T / sigma_noise**2,\n",
    "        axis=1\n",
    "    )\n",
    "    dloss_dw = dlogq_dw - dlogp_dw - dlogd_dw\n",
    "\n",
    "    # compute gradient of loss wrt mu\n",
    "    dlogq_dmu = np.zeros(mu.shape)\n",
    "    dlogp_dmu = dlogp_dw\n",
    "    dlogd_dmu = dlogd_dw\n",
    "    dloss_dmu = dlogq_dmu - dlogp_dmu - dlogd_dw\n",
    "    \n",
    "    # compute gradient of loss wrt rho\n",
    "    dsigma_drho = np.exp(rho) / (1 + np.exp(rho))\n",
    "    dw_dsigma = eps\n",
    "    \n",
    "    dlogq_drho = -dsigma_drho / sigma\n",
    "    dlogp_drho = dlogp_dw * dw_dsigma * dsigma_drho\n",
    "    dlogd_drho = dlogd_dw * dw_dsigma * dsigma_drho\n",
    "    dloss_drho = dlogq_drho - dlogp_drho - dlogd_drho\n",
    "    \n",
    "    return loss, w, dloss_dw, dloss_dmu, dloss_drho\n",
    "\n",
    "\n",
    "def compute_loss(mu, rho, X, y, regu, sigma_noise, reps=100):\n",
    "    ''' approximate the loss and the gradients by monte carlo sampling \n",
    "    '''\n",
    "    acc = None\n",
    "    for i in range(reps):\n",
    "        eps = np.random.normal(size=rho.shape[0])\n",
    "        loss, w, dloss_dw, dloss_dmu, dloss_drho = sample_and_loss(\n",
    "            mu, rho, eps, X, y, regu, sigma_noise\n",
    "        )\n",
    "        \n",
    "        gradient_mu = dloss_dw + dloss_dmu\n",
    "        gradient_rho = dloss_dw * eps / (1 + np.exp(-rho)) + dloss_drho\n",
    "        \n",
    "        res = [loss, gradient_mu, gradient_rho]\n",
    "        \n",
    "        if acc is None:\n",
    "            acc = res\n",
    "        else:\n",
    "            for a, r in zip(acc, res):\n",
    "                a += r\n",
    "\n",
    "    return [a if i == 0 else a / reps for i, a in enumerate(acc)]"
   ]
  },
  {
   "cell_type": "markdown",
   "metadata": {},
   "source": [
    "Check the gradients for a single sample. Averaged gradients are too noisy to be checked with finite differences."
   ]
  },
  {
   "cell_type": "code",
   "execution_count": null,
   "metadata": {},
   "outputs": [
    {
     "name": "stdout",
     "output_type": "stream",
     "text": [
      "Checking gradient of mu\n",
      "Analytical Gradient: -3310.2775 - Finite Differences Gradient: -3310.2788\n",
      "Analytical Gradient: 2503.3085 - Finite Differences Gradient: 2503.3087\n",
      "\n",
      "Checking gradient of rho\n",
      "Analytical Gradient: 3639.5173 - Finite Differences Gradient: 3639.5159\n",
      "Analytical Gradient: 3941.8494 - Finite Differences Gradient: 3941.8501\n"
     ]
    }
   ],
   "source": [
    "mu = np.array([-0.01, 0.5])\n",
    "rho = np.array([0.2, 0.1])\n",
    "eps = np.array([-2, 3])\n",
    "regu = 2\n",
    "sigma_noise = np.sqrt(0.5)\n",
    "\n",
    "\n",
    "def gradient_check(f, x0, eps=1e-9):\n",
    "    loss, gradient = f(x0)\n",
    "    \n",
    "    for i in range(x0.shape[0]):\n",
    "        noise = np.zeros(shape=x0.shape)\n",
    "        noise[i] = eps\n",
    "        \n",
    "        loss_neg, _ = f(x0 - noise)\n",
    "        loss_pos, _ = f(x0 + noise)\n",
    "        fdiff = (loss_pos - loss_neg) / (2 * eps)\n",
    "        \n",
    "        print('Analytical Gradient: %.4f - Finite Differences Gradient: %.4f' %(\n",
    "            gradient[i], fdiff\n",
    "        ))\n",
    "    \n",
    "        assert np.allclose(gradient[i], fdiff)\n",
    "\n",
    "\n",
    "print('Checking gradient of mu')\n",
    "gradient_check(\n",
    "    lambda x: itemgetter(0, 3)(sample_and_loss(x, rho, eps, X, y, regu, sigma_noise)),\n",
    "    x0=mu\n",
    ")\n",
    "\n",
    "print('\\nChecking gradient of rho')\n",
    "gradient_check(\n",
    "    lambda x: itemgetter(0, 4)(sample_and_loss(mu, x, eps, X, y, regu, sigma_noise)),\n",
    "    x0=rho\n",
    ")"
   ]
  },
  {
   "cell_type": "markdown",
   "metadata": {},
   "source": [
    "Sample random parameters, plot loss and find minimum"
   ]
  },
  {
   "cell_type": "code",
   "execution_count": null,
   "metadata": {},
   "outputs": [
    {
     "name": "stdout",
     "output_type": "stream",
     "text": [
      "Minimum loss: 326.8728 at (3.1562, -2.0933)\n"
     ]
    }
   ],
   "source": [
    "values = []\n",
    "for i in range(1000):\n",
    "    params = 20 * (np.random.random(size=2) - 0.5)\n",
    "    ll, *_ = compute_loss(\n",
    "        params, np.array([-8, -8]), X, y, 2, 0.5\n",
    "    )\n",
    "    ll = np.log(ll)\n",
    "    values.append((params, ll))\n",
    "\n",
    "\n",
    "aa = np.array([(x, y, z) for (x, y), z in values])\n",
    "min_w0, min_w1, min_loss = aa[aa[:, 2].argmin()]\n",
    "print('Minimum loss: %.4f at (%.4f, %.4f)' % (np.exp(min_loss), min_w0, min_w1))"
   ]
  },
  {
   "cell_type": "code",
   "execution_count": null,
   "metadata": {},
   "outputs": [
    {
     "data": {
      "image/png": "[encoded data removed]",
      "text/plain": [
       "<Figure size 432x288 with 2 Axes>"
      ]
     },
     "metadata": {
      "needs_background": "light"
     },
     "output_type": "display_data"
    }
   ],
   "source": [
    "plt.tricontourf(aa[:, 0], aa[:, 1], aa[:, 2], levels=100)\n",
    "plt.plot(3, -2, 'o', color='g', label='True')\n",
    "plt.plot(min_w0, min_w1, 'x', color='y', label='Minimum')\n",
    "plt.xlabel('Slope')\n",
    "plt.ylabel('Intercept')\n",
    "plt.colorbar()\n",
    "plt.title('Log-loss')\n",
    "plt.legend(loc='upper left')\n",
    "plt.show()"
   ]
  },
  {
   "cell_type": "markdown",
   "metadata": {},
   "source": [
    "The variance of the loss estimate depends on the value of $\\rho$: "
   ]
  },
  {
   "cell_type": "code",
   "execution_count": null,
   "metadata": {},
   "outputs": [
    {
     "data": {
      "image/png": "[encoded data removed]",
      "text/plain": [
       "<Figure size 432x288 with 1 Axes>"
      ]
     },
     "metadata": {
      "needs_background": "light"
     },
     "output_type": "display_data"
    }
   ],
   "source": [
    "all_losses = []\n",
    "for rho in range(-20, 20, 2):\n",
    "    lss = [\n",
    "        compute_loss(mu, np.array([rho, rho]), X, y, regu, sigma_noise, reps=1)[0]\n",
    "        for _ in range(100)\n",
    "    ]\n",
    "    all_losses.append((rho, np.mean(lss), np.std(lss)))\n",
    "all_losses = np.array(all_losses)\n",
    "\n",
    "plt.semilogy(all_losses[:, 0], all_losses[:, 2])\n",
    "plt.xlabel('rho')\n",
    "plt.ylabel('std')\n",
    "plt.title('Standard deviation of loss estimate')\n",
    "plt.show()"
   ]
  },
  {
   "cell_type": "markdown",
   "metadata": {},
   "source": [
    "Now we can optimize the parameters using gradient descent:"
   ]
  },
  {
   "cell_type": "code",
   "execution_count": null,
   "metadata": {},
   "outputs": [],
   "source": [
    "def target_f(parameters):\n",
    "    param_count = len(parameters) // 2\n",
    "    mu, rho = parameters[:param_count], parameters[param_count:]\n",
    "    \n",
    "    loss, gradient_mu, gradient_rho = compute_loss(\n",
    "        mu, rho, X, y, regu=1, sigma_noise=0.5,\n",
    "        reps=100\n",
    "    )\n",
    "    \n",
    "    gradient = np.zeros(2 * param_count)\n",
    "    gradient[:param_count] = gradient_mu\n",
    "    gradient[param_count:] = gradient_rho\n",
    "    \n",
    "    return loss, gradient"
   ]
  },
  {
   "cell_type": "code",
   "execution_count": null,
   "metadata": {},
   "outputs": [],
   "source": [
    "opt = GradientDescentOptimizer(\n",
    "    base_lrate=0.1,\n",
    "    momentum=0.9,\n",
    "    verbose=0,\n",
    "    min_improvement=0.1,  # function is quite noisy\n",
    "    raise_exceptions=True,\n",
    ")\n",
    "\n",
    "loss, parameters = opt.minimize_with_restarts(\n",
    "    50,\n",
    "    lambda: np.random.normal(size=4),\n",
    "    target_f\n",
    ")\n",
    "\n",
    "loss, parameters"
   ]
  },
  {
   "cell_type": "markdown",
   "metadata": {},
   "source": [
    "Compare the mean of the found model with the true model:"
   ]
  },
  {
   "cell_type": "code",
   "execution_count": null,
   "metadata": {},
   "outputs": [],
   "source": [
    "xt = np.arange(-1, 2, 0.1)\n",
    "    \n",
    "plt.plot(X[:, 0], y, '.', color='#aaaaaa')\n",
    "plt.plot(xt, 3 * xt - 2, 'r', linewidth=2, color='C1', label='True')\n",
    "plt.plot(xt, parameters[0] * xt + parameters[1], linewidth=2, color='C0', label='Found')\n",
    "plt.legend(loc='upper left')\n",
    "plt.show()"
   ]
  },
  {
   "cell_type": "markdown",
   "metadata": {},
   "source": [
    "Plot some samples from the posterior:"
   ]
  },
  {
   "cell_type": "code",
   "execution_count": null,
   "metadata": {},
   "outputs": [],
   "source": [
    "mu, rho = parameters[:2], parameters[2:]\n",
    "sigma = np.log(1 + np.exp(rho))\n",
    "\n",
    "xt = np.arange(-1, 2, 0.1)\n",
    "\n",
    "for i in range(100):\n",
    "    eps = np.random.normal(size=2)\n",
    "    aa, bb = mu + sigma * eps\n",
    "    kwargs = {'label': 'Sample'} if i == 0 else {}\n",
    "    plt.plot([-1, 2], [-1 * aa + bb, 2 * aa + bb], '#cccccc', **kwargs)\n",
    "    \n",
    "    \n",
    "plt.plot(xt, 3 * xt - 2, 'r', linewidth=2, color='C1', label='True')\n",
    "plt.plot(xt, parameters[0] * xt + parameters[1], linewidth=2, color='C0', label='Found')\n",
    "plt.legend(loc='upper left')\n",
    "\n",
    "plt.show()"
   ]
  },
  {
   "cell_type": "markdown",
   "metadata": {},
   "source": [
    "Notice that this is different from the true posterior, since in that case the parameters are usually correlated, whereas in this approximation they are forcefully independent."
   ]
  },
  {
   "cell_type": "markdown",
   "metadata": {},
   "source": [
    "Plot the learning curve:"
   ]
  },
  {
   "cell_type": "code",
   "execution_count": null,
   "metadata": {},
   "outputs": [],
   "source": [
    "true_loss, _ = target_f(np.array([true_parameters[0], true_parameters[1], -4, -4]))\n",
    "true_loss"
   ]
  },
  {
   "cell_type": "code",
   "execution_count": null,
   "metadata": {},
   "outputs": [],
   "source": [
    "plt.plot([x[1] for x in opt.hist], label='Training')\n",
    "plt.xlabel('Step')\n",
    "plt.ylabel('Loss')\n",
    "plt.plot([0, len(opt.hist)], [true_loss, true_loss], label='True parameters')\n",
    "plt.legend(loc='upper right')\n",
    "plt.show()"
   ]
  },
  {
   "cell_type": "markdown",
   "metadata": {},
   "source": [
    "Plot the evolution of the parameters during training, with the true values dashed:"
   ]
  },
  {
   "cell_type": "code",
   "execution_count": null,
   "metadata": {},
   "outputs": [],
   "source": [
    "plt.plot([x[-1][0] for x in opt.hist], label='Slope', color='C0')\n",
    "plt.plot([0, len(opt.hist)], [true_parameters[0], true_parameters[0]], '--', color='C0')\n",
    "plt.plot([x[-1][1] for x in opt.hist], label='Intercept', color='C1')\n",
    "plt.plot([0, len(opt.hist)], [true_parameters[1], true_parameters[1]], '--', color='C1')\n",
    "plt.xlabel('Iteration')\n",
    "plt.title('Parameters Mean')\n",
    "plt.legend()\n",
    "plt.show()"
   ]
  },
  {
   "cell_type": "code",
   "execution_count": null,
   "metadata": {},
   "outputs": [],
   "source": [
    "plt.plot([np.log(1 + np.exp(x[-1][2])) for x in opt.hist], label='Slope', color='C0')\n",
    "plt.plot([np.log(1 + np.exp(x[-1][3])) for x in opt.hist], label='Intercept', color='C1')\n",
    "plt.legend()\n",
    "plt.title('Parameters Uncertainty')\n",
    "plt.ylabel('Standard Deviation')\n",
    "plt.xlabel('Iteration')\n",
    "plt.show()"
   ]
  }
 ],
 "metadata": {
  "kernelspec": {
   "display_name": "Python 3",
   "language": "python",
   "name": "python3"
  },
  "language_info": {
   "codemirror_mode": {
    "name": "ipython",
    "version": 3
   },
   "file_extension": ".py",
   "mimetype": "text/x-python",
   "name": "python",
   "nbconvert_exporter": "python",
   "pygments_lexer": "ipython3",
   "version": "3.6.8"
  }
 },
 "nbformat": 4,
 "nbformat_minor": 2
}
